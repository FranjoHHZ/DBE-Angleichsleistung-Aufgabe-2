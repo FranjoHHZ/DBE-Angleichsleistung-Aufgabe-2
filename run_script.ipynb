{
  "nbformat": 4,
  "nbformat_minor": 0,
  "metadata": {
    "colab": {
      "provenance": []
    },
    "kernelspec": {
      "name": "python3",
      "display_name": "Python 3"
    },
    "language_info": {
      "name": "python"
    }
  },
  "cells": [
    {
      "cell_type": "code",
      "execution_count": null,
      "metadata": {
        "id": "nflg5qV7K0EE"
      },
      "outputs": [],
      "source": [
        "# Klonen des GitHub-Repositories\n",
        "!git clone https://github.com/FranjoHHZ/DBE-Angleichsleistung-Aufgabe-2.git\n",
        "%cd DBE-Angleichsleistung-Aufgabe-2\n",
        "\n",
        "# Installation der Abhängigkeiten\n",
        "!pip install -r requirements.txt\n",
        "\n",
        "# Ausführen des Hauptskripts\n",
        "!python main_runtime.py\n",
        "\n",
        "# Unit-Tests ausführen\n",
        "!python -m unittest test_runtime.py"
      ]
    }
  ]
}