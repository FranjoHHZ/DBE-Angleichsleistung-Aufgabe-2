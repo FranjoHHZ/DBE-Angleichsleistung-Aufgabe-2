# Klonen des GitHub-Repositories
!git clone https://github.com/FranjoHHZ/DBE-Angleichsleistung-Aufgabe-2.git
%cd DBE-Angleichsleistung-Aufgabe-2

# Installation der Abhängigkeiten
!pip install -r requirements.txt

# Ausführen des Hauptskripts
!python main_runtime.py

# Unit-Tests ausführen
!python -m unittest test_runtime.py
